{
 "cells": [
  {
   "attachments": {},
   "cell_type": "markdown",
   "metadata": {},
   "source": [
    "# README \n",
    "This notebook illustrates how the code works on top level"
   ]
  },
  {
   "attachments": {},
   "cell_type": "markdown",
   "metadata": {},
   "source": [
    "First, install the necessary modules\n",
    "Run the following command in your terminal:\n",
    "\n",
    "```\n",
    "pip install -r requirements.txt\n",
    "```"
   ]
  },
  {
   "attachments": {},
   "cell_type": "markdown",
   "metadata": {},
   "source": [
    "Now import the necessary modules for this notebook"
   ]
  },
  {
   "cell_type": "code",
   "execution_count": null,
   "metadata": {},
   "outputs": [],
   "source": [
    "from classes import MKID\n",
    "import functions as f\n",
    "\n",
    "%matplotlib widget"
   ]
  },
  {
   "attachments": {},
   "cell_type": "markdown",
   "metadata": {},
   "source": [
    "Initiate the MKID object"
   ]
  },
  {
   "cell_type": "code",
   "execution_count": null,
   "metadata": {},
   "outputs": [],
   "source": [
    "light_dir = \"./LT192Chip1_BF_20220235/1KIDs laser on 1545 50nW 46dB/TD_Power\"  # directory for the pulsedata\n",
    "dark_dir = './LT192Chip1_BF_20220235/1KIDs laser off/TD_Power'  # directory for the noise data\n",
    "LT = 192                # LT number of the chip. This is just for saving purposes\n",
    "wavelength = 1545       # wavelenght of the laser. This is just for saving purposes\n",
    "kid_nr = 1              # KID number\n",
    "pread = 102             # readout power of the KID\n",
    "comment = '20220235'    # the date of the experiment or any other comment you want to add for saving the figures\n",
    "chuncksize = 40         # the number of binfiles that the code will analyse at once. The script will concatenate these files and analyze them at once istead of analyzing every file on its own\n",
    "LT192_KID1_P102 = MKID(LT, wavelength, light_dir, dark_dir, kid_nr, pread, comment, chuncksize)"
   ]
  },
  {
   "attachments": {},
   "cell_type": "markdown",
   "metadata": {},
   "source": [
    "Set the pules analysis settings "
   ]
  },
  {
   "cell_type": "code",
   "execution_count": null,
   "metadata": {},
   "outputs": [],
   "source": [
    "mkid = LT192_KID1_P102      # choose the object you want to analyze\n",
    "settings = {                # Choose the best settings for the pulse analysis:\n",
    "    'sf':1e6,                   # sample frequency of the data. It is 1e6 Hz normally, except for the TDmed files where it is 5e4 Hz.\n",
    "    'coord':'smith',            # coordinates system: 'circle' or 'smith'\n",
    "    'response':'X',             # response type: 'amp' or 'phase' when in 'circle' coordinates, 'R' or 'X' when in 'smith' coordinates\n",
    "    'pw':64,                    # pulsewindow, a window must be chosen that doesn't cut off your pulses, but choosing it too wide will cause pulsewindows to overlap\n",
    "    'sw':5,                     # smoothingwindow, the windowsize used for smoothing the data\n",
    "    'window':'box',             # window type for smoothing the data, only a simple 'box' works at the moment\n",
    "    'ssf':4,                    # supersample factor, ssf this will increase the number of point in the data such that the rising edge can be found more accurately\n",
    "    'buffer':0.25,              # the buffer is added at both sides of the pulsewindpow when cutting a pulse from the data, it is given as a ratio of the pulsewindow: 0<buffer<1. A buffer is needed because some extra room is required to align after they have been cut from the data\n",
    "    'mph':0.15,                  # minimal pulse height, together with mpp these are the two criteria that are used to select the pulses. For more  https://docs.scipy.org/doc/scipy/reference/generated/scipy.signal.find_peaks.html \n",
    "    'mpp':0.15,                  # minimal pulse prominence, see https://docs.scipy.org/doc/scipy/reference/generated/scipy.signal.find_peaks.html \n",
    "    'noise_mph':0.15,            # minimal pulse height for noise data\n",
    "    'noise_mpp':0.15,            # minimal pulse prominence for noise data\n",
    "    'nr_noise_segments':100,    # number of noise segment to be used for the noise model\n",
    "    'binsize':0.03,             # the binsize for the pulseheight histogram\n",
    "    'range':None,               # range of pulseheights to consider for the resolving power\n",
    "    'fit_T':[55, 70],           # the pulse fitting range given in time for finding the decay time\n",
    "    'max_bw':100000,            # maximum bandwidth: the number of points used for the noise spectrum. The noise spectrum has a larger bandwidth than noise model as the noise model uses segments as long as the pulsewindow.\n",
    "    'tlim':[0, 1],              # the time limits for the timestream response plots\n",
    "    'filter_std':5,             # the number of standard deviations used for filtering the pulses. Pulses are filtered that are outside this number of stds at any point along their pulsewindow\n",
    "    'rise_offset':0.1           # part of pulsewindow that comes before the pulse rise, 0<rise_offset<1, \n",
    "    } "
   ]
  },
  {
   "attachments": {},
   "cell_type": "markdown",
   "metadata": {},
   "source": [
    "Do an initial check if the chosen settings are suitable"
   ]
  },
  {
   "cell_type": "code",
   "execution_count": null,
   "metadata": {},
   "outputs": [],
   "source": [
    "# the mkid.initiate attribute is for quickly checking how the pulse selection and alignment is going. It will only analyze one chunck of binfiles that was set by the initiation of the object.\n",
    "mkid.initiate(\n",
    "    settings,               # input the pulse analysis settings\n",
    "    f,                      # provide the required file with all the functions\n",
    "    binsize=0.1,            # the binsize of the pulseheight histogram, this should actually be automated\n",
    "    dpulse=10,              # overlaying all the pulses might be too much, only one in every ... is plotted\n",
    "    plot_pulse=False,        # if True, this will plot an individual detected pulse with its pulse height and the location of its rising edge at half the pulse maximum\n",
    "    every=20,              # this gives the plotting frequency of the individual pulses, one in every ... will be plotted\n",
    "    below=.4            # only plot detected pulses below a certain pulse height. You can use this to check if these are arising from noise or not.\n",
    "    )"
   ]
  },
  {
   "attachments": {},
   "cell_type": "markdown",
   "metadata": {},
   "source": [
    "Do the complete pulse analysis"
   ]
  },
  {
   "cell_type": "code",
   "execution_count": null,
   "metadata": {},
   "outputs": [],
   "source": [
    "# the mkid.overview attribute does the full pulse analysis and provides an overview plot of all the relevant parameters\n",
    "# FIXME: the correction for the offset of the pulses has not been implemented at this point. \n",
    "mkid.overview(\n",
    "    settings,                       # input the pulse analysis settings\n",
    "    f,                              # provide the required file with all the functions\n",
    "    redo_peak_model=False,          # if you don't want to redo the pulse analysis but do want to renew the plot set this setting to False\n",
    "    save=True,                      # if you want to save the figure and data, set it to True. It will create 4 files, a text file with the settings, a pickle file with the pulse data and a png and svg of file of the figure \n",
    "    figpath='./Results/'            # provide the directory to which the figure will be saved\n",
    "    )"
   ]
  },
  {
   "cell_type": "code",
   "execution_count": null,
   "metadata": {},
   "outputs": [],
   "source": []
  }
 ],
 "metadata": {
  "kernelspec": {
   "display_name": ".venv",
   "language": "python",
   "name": "python3"
  },
  "language_info": {
   "codemirror_mode": {
    "name": "ipython",
    "version": 3
   },
   "file_extension": ".py",
   "mimetype": "text/x-python",
   "name": "python",
   "nbconvert_exporter": "python",
   "pygments_lexer": "ipython3",
   "version": "3.9.13"
  },
  "orig_nbformat": 4,
  "vscode": {
   "interpreter": {
    "hash": "f8baa45e70dad6bfc67528a2288446aa4c9b1e7af9b2a77e08f5c15b6faa7815"
   }
  }
 },
 "nbformat": 4,
 "nbformat_minor": 2
}
